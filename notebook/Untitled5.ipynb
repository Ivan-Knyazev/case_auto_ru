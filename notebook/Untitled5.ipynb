{
  "cells": [
    {
      "cell_type": "code",
      "execution_count": null,
      "metadata": {
        "id": "-lSAaOxCqpF9"
      },
      "outputs": [],
      "source": [
        "import pandas as pd\n",
        "import seaborn as sns\n",
        "import numpy as np\n",
        "import matplotlib.pyplot as plt\n",
        "import sqlite3\n",
        "# import plotly\n",
        "# import plotly.express as px"
      ]
    },
    {
      "cell_type": "code",
      "execution_count": 4,
      "metadata": {},
      "outputs": [
        {
          "data": {
            "text/html": [
              "<div>\n",
              "<style scoped>\n",
              "    .dataframe tbody tr th:only-of-type {\n",
              "        vertical-align: middle;\n",
              "    }\n",
              "\n",
              "    .dataframe tbody tr th {\n",
              "        vertical-align: top;\n",
              "    }\n",
              "\n",
              "    .dataframe thead th {\n",
              "        text-align: right;\n",
              "    }\n",
              "</style>\n",
              "<table border=\"1\" class=\"dataframe\">\n",
              "  <thead>\n",
              "    <tr style=\"text-align: right;\">\n",
              "      <th></th>\n",
              "      <th>id</th>\n",
              "      <th>bodyType</th>\n",
              "      <th>brand</th>\n",
              "      <th>color</th>\n",
              "      <th>description</th>\n",
              "      <th>enginePower</th>\n",
              "      <th>fuelType</th>\n",
              "      <th>mileage</th>\n",
              "      <th>model_info</th>\n",
              "      <th>numberOfDoors</th>\n",
              "      <th>...</th>\n",
              "      <th>type_of_drive</th>\n",
              "      <th>wheel</th>\n",
              "      <th>modelDate</th>\n",
              "      <th>productionDate</th>\n",
              "      <th>name</th>\n",
              "      <th>engineDisplacement</th>\n",
              "      <th>date</th>\n",
              "      <th>sell_id</th>\n",
              "      <th>vehicleConfiguration</th>\n",
              "      <th>time_of_ownership</th>\n",
              "    </tr>\n",
              "  </thead>\n",
              "  <tbody>\n",
              "    <tr>\n",
              "      <th>0</th>\n",
              "      <td>1.0</td>\n",
              "      <td>sdds</td>\n",
              "      <td>BMW</td>\n",
              "      <td>dsad</td>\n",
              "      <td>dvsd fd f sfgbgfdgf f bgbb fgbdfbgf vf</td>\n",
              "      <td>345</td>\n",
              "      <td>бензин</td>\n",
              "      <td>345435</td>\n",
              "      <td>sss</td>\n",
              "      <td>4</td>\n",
              "      <td>...</td>\n",
              "      <td>передний</td>\n",
              "      <td>правый</td>\n",
              "      <td>2010</td>\n",
              "      <td>2005</td>\n",
              "      <td>fdb fbrb er rvdvdfvfv</td>\n",
              "      <td>3</td>\n",
              "      <td>1.661199e+09</td>\n",
              "      <td>NaN</td>\n",
              "      <td>NaN</td>\n",
              "      <td>NaN</td>\n",
              "    </tr>\n",
              "  </tbody>\n",
              "</table>\n",
              "<p>1 rows × 23 columns</p>\n",
              "</div>"
            ],
            "text/plain": [
              "    id bodyType brand color                             description  \\\n",
              "0  1.0     sdds   BMW  dsad  dvsd fd f sfgbgfdgf f bgbb fgbdfbgf vf   \n",
              "\n",
              "  enginePower fuelType  mileage model_info  numberOfDoors  ... type_of_drive  \\\n",
              "0         345   бензин   345435        sss              4  ...      передний   \n",
              "\n",
              "    wheel modelDate productionDate                   name  engineDisplacement  \\\n",
              "0  правый      2010           2005  fdb fbrb er rvdvdfvfv                   3   \n",
              "\n",
              "           date sell_id vehicleConfiguration  time_of_ownership  \n",
              "0  1.661199e+09     NaN                  NaN                NaN  \n",
              "\n",
              "[1 rows x 23 columns]"
            ]
          },
          "execution_count": 4,
          "metadata": {},
          "output_type": "execute_result"
        }
      ],
      "source": [
        "import pandas as pd\n",
        "import sqlite3\n",
        "from sklearn import preprocessing\n",
        "import pickle\n",
        "\n",
        "import numpy as np\n",
        "\n",
        "# import seaborn as sns\n",
        "# import matplotlib.pyplot as plt\n",
        "# import plotly\n",
        "# import plotly.express as px\n",
        "\n",
        "con = sqlite3.connect(\"base.db\")\n",
        "\n",
        "auto_data = pd.read_sql(\"SELECT * FROM Data\", con)\n",
        "auto_data_n = pd.read_csv('test.csv')\n",
        "\n",
        "auto_data.dropna(axis=0, inplace=True)\n",
        "\n",
        "auto_data = pd.concat([auto_data, auto_data_n])\n",
        "auto_data.drop('price', axis=1, inplace=True)\n",
        "\n",
        "auto_data = auto_data.loc[auto_data['id'] == 1.0]\n",
        "# print(auto_data.info())\n",
        "auto_data"
      ]
    },
    {
      "cell_type": "code",
      "execution_count": null,
      "metadata": {
        "id": "PntmxVG_r_4g"
      },
      "outputs": [],
      "source": [
        "con = sqlite3.connect(\"base.db\")\n",
        "\n",
        "auto_data = pd.read_sql(\"SELECT * FROM Data\", con)\n",
        "# auto_data = pd.read_csv('out.csv')"
      ]
    },
    {
      "cell_type": "code",
      "execution_count": null,
      "metadata": {
        "id": "dTkV9D86HX0Q"
      },
      "outputs": [],
      "source": [
        "auto_data.dropna(axis=0, inplace=True)"
      ]
    },
    {
      "cell_type": "code",
      "execution_count": null,
      "metadata": {
        "colab": {
          "base_uri": "https://localhost:8080/"
        },
        "id": "DTq4uv3sIOr9",
        "outputId": "b264cc73-e20f-41e6-f0b2-0ce61975f4a8"
      },
      "outputs": [],
      "source": [
        "auto_data.shape"
      ]
    },
    {
      "cell_type": "code",
      "execution_count": null,
      "metadata": {
        "id": "eAV9TqL5qrIc"
      },
      "outputs": [],
      "source": [
        "def change_params(value):\n",
        "  if value == 'None':\n",
        "    return 'Other'\n",
        "  else:\n",
        "    return value\n",
        "auto_data['model_info'] = auto_data['model_info'].apply(change_params)"
      ]
    },
    {
      "cell_type": "code",
      "execution_count": null,
      "metadata": {
        "id": "qYqky6aPqzTH"
      },
      "outputs": [],
      "source": [
        "def engine(value):\n",
        "  if value != 'undefined LTR':\n",
        "    new_value = float(value[0:3])\n",
        "  else:\n",
        "    new_value = 0.0\n",
        "  return new_value\n",
        "auto_data['engine_v'] = auto_data['engineDisplacement'].apply(engine)"
      ]
    },
    {
      "cell_type": "code",
      "execution_count": null,
      "metadata": {
        "id": "lj24YKbVrJch"
      },
      "outputs": [],
      "source": [
        "auto_data['engine_v'] = auto_data.engine_v.apply(lambda x: auto_data['engine_v'].mean() if x == 0.0 else x)"
      ]
    },
    {
      "cell_type": "code",
      "execution_count": null,
      "metadata": {
        "id": "gDEJi48QrOPG"
      },
      "outputs": [],
      "source": [
        "auto_data.drop('engineDisplacement', axis=1, inplace=True)"
      ]
    },
    {
      "cell_type": "code",
      "execution_count": null,
      "metadata": {
        "id": "d2-VIp1yrQ01"
      },
      "outputs": [],
      "source": [
        "def enginePower_toint(value):\n",
        "  new_value = int(value)\n",
        "  return new_value\n",
        "auto_data['enginePower'] = auto_data['enginePower'].apply(enginePower_toint)"
      ]
    },
    {
      "cell_type": "code",
      "execution_count": null,
      "metadata": {
        "id": "Ll7PXiC8rXu7"
      },
      "outputs": [],
      "source": [
        "color_arr = ['чёрный', 'белый', 'серый', 'синий', 'серебристый']\n",
        "def change_cat(value):\n",
        "  if value in color_arr:\n",
        "    return value\n",
        "  else:\n",
        "    return 'другой цвет'\n",
        "auto_data['color'] = auto_data['color'].apply(change_cat)"
      ]
    },
    {
      "cell_type": "code",
      "execution_count": null,
      "metadata": {
        "id": "7p4cO7Lvrao1"
      },
      "outputs": [],
      "source": [
        "type_arr = ['седан', 'внедорожник 5 дв.', 'купе', 'хэтчбек 5 дв.', 'лифтбек']\n",
        "def change_cat(value):\n",
        "  if value in type_arr:\n",
        "    return value\n",
        "  else:\n",
        "    return 'другой кузов'\n",
        "auto_data['bodyType'] = auto_data['bodyType'].apply(change_cat)"
      ]
    },
    {
      "cell_type": "code",
      "execution_count": null,
      "metadata": {
        "id": "0GpqKGQwrdOu"
      },
      "outputs": [],
      "source": [
        "auto_data['гараж'] = auto_data.description.apply(lambda x: 1 if 'гараж' in x else 0)\n",
        "auto_data['подарок'] = auto_data.description.apply(lambda x: 1 if 'подарок' in x else 0)\n",
        "auto_data['торг'] = auto_data.description.apply(lambda x: 1 if 'торг' in x else 0)\n",
        "auto_data['шины'] = auto_data.description.apply(lambda x: 1 if ('шин' in x) or ('резин' in x) else 0)\n",
        "auto_data['дилер'] = auto_data.description.apply(lambda x: 1 if 'дилер' in x else 0)\n",
        "auto_data['подогрев'] = auto_data.description.apply(lambda x: 1 if 'подогрев' in x else 0)\n",
        "auto_data['обмен'] = auto_data.description.apply(lambda x: 1 if 'обмен' in x else 0)\n",
        "auto_data['обслуж'] = auto_data.description.apply(lambda x: 1 if 'обслуж' in x else 0)\n",
        "auto_data['срочн'] = auto_data.description.apply(lambda x: 1 if 'срочн' in x else 0)\n",
        "auto_data['полн'] = auto_data.description.apply(lambda x: 1 if 'полн' in x else 0)\n",
        "auto_data['скидк'] = auto_data.description.apply(lambda x: 1 if 'скидк' in x else 0)\n",
        "auto_data['диск'] = auto_data.description.apply(lambda x: 1 if 'диск' in x else 0)"
      ]
    },
    {
      "cell_type": "code",
      "execution_count": null,
      "metadata": {
        "id": "0B738d3JrdmY"
      },
      "outputs": [],
      "source": [
        "auto_data['4wd'] = auto_data['name'].apply(lambda x: 1 if '4WD' in x else 0)\n",
        "auto_data['xdrive'] = auto_data['name'].apply(lambda x: 1 if 'xDrive' in x else 0)"
      ]
    },
    {
      "cell_type": "code",
      "execution_count": null,
      "metadata": {
        "id": "disuBRomrduO"
      },
      "outputs": [],
      "source": [
        "auto_data.drop('name', axis=1, inplace=True)"
      ]
    },
    {
      "cell_type": "code",
      "execution_count": null,
      "metadata": {
        "id": "S5pvRJRGrd1e"
      },
      "outputs": [],
      "source": [
        "auto_data['Y_no_sale'] = abs(auto_data.productionDate - auto_data.modelDate)\n",
        "auto_data['m_per_y'] = auto_data.mileage/(2021 - auto_data['productionDate'])\n",
        "auto_data['hard_usage'] = auto_data['m_per_y'].apply(lambda x: 1 if x >=20000 else 0)\n",
        "auto_data['trash'] = auto_data.mileage.apply(lambda x: 1 if x>=300000 else 0)"
      ]
    },
    {
      "cell_type": "code",
      "execution_count": null,
      "metadata": {
        "id": "qdLTKRKFroBt"
      },
      "outputs": [],
      "source": [
        "def car_age(value):\n",
        "  return 2022 - value\n",
        "auto_data['car_age'] = auto_data['productionDate'].apply(car_age)"
      ]
    },
    {
      "cell_type": "code",
      "execution_count": null,
      "metadata": {
        "id": "LUxnoe7prqqT"
      },
      "outputs": [],
      "source": [
        "def model_age(value):\n",
        "  return 2022 - value\n",
        "auto_data['modelAge'] = auto_data['modelDate'].apply(model_age)"
      ]
    },
    {
      "cell_type": "code",
      "execution_count": null,
      "metadata": {
        "id": "7MXS-Ip6rsii"
      },
      "outputs": [],
      "source": [
        "auto_data.drop('productionDate', axis=1, inplace=True)\n",
        "auto_data.drop('modelDate', axis=1, inplace=True)\n",
        "auto_data.drop('id', axis=1, inplace=True)\n",
        "auto_data.drop('date', axis=1, inplace=True)\n",
        "# auto_data.drop('sell_id', axis=1, inplace=True)\n",
        "# auto_data.drop('vehicleConfiguration', axis=1, inplace=True)\n",
        "# auto_data.drop('time_of_ownership', axis=1, inplace=True)"
      ]
    },
    {
      "cell_type": "code",
      "execution_count": null,
      "metadata": {
        "id": "-IrNVPgIprxf"
      },
      "outputs": [],
      "source": [
        "auto_data['mileage'] = np.log(auto_data['mileage'])\n",
        "auto_data['m_per_y'] = np.log(auto_data['m_per_y'])"
      ]
    },
    {
      "cell_type": "code",
      "execution_count": null,
      "metadata": {
        "id": "0-pDPQeJrt8y"
      },
      "outputs": [],
      "source": [
        "from sklearn import preprocessing"
      ]
    },
    {
      "cell_type": "code",
      "execution_count": null,
      "metadata": {
        "colab": {
          "base_uri": "https://localhost:8080/"
        },
        "id": "DB15Zn4SIYpi",
        "outputId": "5955337b-4a40-4553-d422-5252d8e19903"
      },
      "outputs": [],
      "source": [
        "auto_data.shape"
      ]
    },
    {
      "cell_type": "code",
      "execution_count": null,
      "metadata": {
        "id": "shHauGpFsiKF"
      },
      "outputs": [],
      "source": [
        "import pickle"
      ]
    },
    {
      "cell_type": "code",
      "execution_count": null,
      "metadata": {
        "id": "sDzE9LGEsP_c"
      },
      "outputs": [],
      "source": [
        "with open('data.pickle', 'rb') as handle:\n",
        "    b = pickle.load(handle)"
      ]
    },
    {
      "cell_type": "code",
      "execution_count": null,
      "metadata": {
        "id": "gY5kjKE-sm8d"
      },
      "outputs": [],
      "source": [
        "columns_to_change = ['bodyType', 'brand', 'color', 'fuelType',\n",
        "       'model_info', 'vehicleTransmission', 'owners',\n",
        "       'vehicle_passport', 'type_of_drive', 'wheel']"
      ]
    },
    {
      "cell_type": "code",
      "execution_count": null,
      "metadata": {
        "colab": {
          "base_uri": "https://localhost:8080/"
        },
        "id": "4Zd-vaenuXyT",
        "outputId": "8c757fde-fde6-426a-8f8b-906b9d1b8fab"
      },
      "outputs": [],
      "source": [
        "auto_data.info()"
      ]
    },
    {
      "cell_type": "code",
      "execution_count": null,
      "metadata": {},
      "outputs": [],
      "source": [
        "# Сброс ограничений на количество выводимых рядов\n",
        "pd.set_option('display.max_rows', None)\n",
        " \n",
        "# Сброс ограничений на число столбцов\n",
        "pd.set_option('display.max_columns', None)\n",
        " \n",
        "# Сброс ограничений на количество символов в записи\n",
        "pd.set_option('display.max_colwidth', None)\n",
        "# auto_data.to_csv('out.csv')\n",
        "# auto_data.drop(0, axis=1, inplace=True)\n",
        "# auto_data.drop(auto_data.columns[[0]], axis = 1, inplace=True)\n",
        "auto_data"
      ]
    },
    {
      "cell_type": "code",
      "execution_count": null,
      "metadata": {
        "colab": {
          "base_uri": "https://localhost:8080/"
        },
        "id": "VQyn1Yhasndq",
        "outputId": "b0a6939f-47d7-444a-f6e5-87eaa544146f"
      },
      "outputs": [],
      "source": [
        "#auto_data.dropna(inplace=True)\n",
        "data_onehot = b.transform(auto_data[columns_to_change]).toarray()\n",
        "column_names = b.get_feature_names_out(columns_to_change)\n",
        "\n",
        "print('Shape of one hot data: {}'.format(data_onehot.shape))"
      ]
    },
    {
      "cell_type": "code",
      "execution_count": null,
      "metadata": {
        "id": "oMQi_h-vteli"
      },
      "outputs": [],
      "source": [
        "data_onehot = pd.DataFrame(data_onehot, columns=column_names)"
      ]
    },
    {
      "cell_type": "code",
      "execution_count": null,
      "metadata": {
        "colab": {
          "base_uri": "https://localhost:8080/"
        },
        "id": "Ou6Po2_IsvBy",
        "outputId": "2ea60e7b-b4d4-4d46-a8b7-b8ef01ec1d4d"
      },
      "outputs": [],
      "source": [
        "data_onehot.shape"
      ]
    },
    {
      "cell_type": "code",
      "execution_count": null,
      "metadata": {
        "colab": {
          "base_uri": "https://localhost:8080/",
          "height": 542
        },
        "id": "uIYarnow8fpK",
        "outputId": "9bd94a18-f19a-471d-ab15-dddd65f33341"
      },
      "outputs": [],
      "source": [
        "result_df = pd.concat([\n",
        "    auto_data.drop(columns_to_change, axis=1),\n",
        "    data_onehot\n",
        "], axis=1)\n",
        "\n",
        "result_df.head()"
      ]
    },
    {
      "cell_type": "code",
      "execution_count": null,
      "metadata": {
        "colab": {
          "base_uri": "https://localhost:8080/"
        },
        "id": "WtZ2CDXX80fB",
        "outputId": "eb95adeb-5dfe-48fc-9b3b-2e7094a9af84"
      },
      "outputs": [],
      "source": [
        "result_df.shape"
      ]
    },
    {
      "cell_type": "code",
      "execution_count": null,
      "metadata": {
        "id": "ruqlfVPgIgwG"
      },
      "outputs": [],
      "source": [
        "result_df.dropna(axis=0, inplace=True)"
      ]
    },
    {
      "cell_type": "code",
      "execution_count": null,
      "metadata": {
        "id": "S_KEsbHoHB25"
      },
      "outputs": [],
      "source": [
        "df = result_df['description']\n",
        "result_df.drop('description', axis=1, inplace=True)"
      ]
    },
    {
      "cell_type": "code",
      "execution_count": null,
      "metadata": {
        "id": "Bmspdrd_Ilex"
      },
      "outputs": [],
      "source": [
        "X = result_df.drop('price', axis=1)\n",
        "y = result_df['price']"
      ]
    },
    {
      "cell_type": "code",
      "execution_count": null,
      "metadata": {
        "id": "cUbCc9VTJTVp"
      },
      "outputs": [],
      "source": [
        "with open('scaler.pickle', 'rb') as handle:\n",
        "    b = pickle.load(handle)"
      ]
    },
    {
      "cell_type": "code",
      "execution_count": null,
      "metadata": {
        "id": "eRkY0bplJOK5"
      },
      "outputs": [],
      "source": [
        "X_scaled = b.transform(X)"
      ]
    },
    {
      "cell_type": "code",
      "execution_count": null,
      "metadata": {
        "colab": {
          "base_uri": "https://localhost:8080/"
        },
        "id": "VtBAxa45sOEb",
        "outputId": "7230f2a2-9fa5-47db-8fea-eb566eb4c2ba"
      },
      "outputs": [],
      "source": [
        "X_scaled.shape"
      ]
    },
    {
      "cell_type": "code",
      "execution_count": null,
      "metadata": {
        "colab": {
          "base_uri": "https://localhost:8080/"
        },
        "id": "HFMzHlYrsQW5",
        "outputId": "08eff179-5801-4743-a3b9-524ac29bf416"
      },
      "outputs": [],
      "source": [
        "!pip install pymorphy2\n",
        "!pip install nltk"
      ]
    },
    {
      "cell_type": "code",
      "execution_count": null,
      "metadata": {
        "colab": {
          "base_uri": "https://localhost:8080/"
        },
        "id": "vl2aZAJEsaf-",
        "outputId": "84dbd0fc-f453-4413-b8f4-2579275ffcc0"
      },
      "outputs": [],
      "source": [
        "import re\n",
        "from pymorphy2 import MorphAnalyzer\n",
        "import nltk\n",
        "nltk.download('stopwords')\n",
        "from nltk.corpus import stopwords\n",
        "from nltk.stem import WordNetLemmatizer\n",
        "from tensorflow.keras.preprocessing.sequence import pad_sequences\n",
        "from tensorflow.keras.preprocessing.text import Tokenizer\n",
        "import tensorflow as tf"
      ]
    },
    {
      "cell_type": "code",
      "execution_count": null,
      "metadata": {
        "colab": {
          "base_uri": "https://localhost:8080/"
        },
        "id": "b9FwAbDzsdoq",
        "outputId": "ce856a9a-1a4e-4a79-d4da-f0a1db40c715"
      },
      "outputs": [],
      "source": [
        "patterns = \"[A-Za-z0-9!#$%&'()*+,./:;<=>?@[\\]^_`{|}~—\\\"\\-]+\"\n",
        "stopwords_ru = stopwords.words(\"russian\")\n",
        "morph = MorphAnalyzer()\n",
        "\n",
        "def lemmatize(doc, stopwords=stopwords_ru):\n",
        "    #исключаем символы не подходящие под патерны\n",
        "    doc = re.sub(patterns, ' ', doc)\n",
        "    tokens = []\n",
        "    for token in doc.split():\n",
        "        if token and token not in stopwords:\n",
        "            token = token.strip()\n",
        "            token = morph.normal_forms(token)[0]\n",
        "            tokens.append(token)\n",
        "    return ' '.join(tokens)\n",
        "df.apply(lemmatize)"
      ]
    },
    {
      "cell_type": "code",
      "execution_count": null,
      "metadata": {
        "colab": {
          "base_uri": "https://localhost:8080/"
        },
        "id": "Sh4_KgSEs0Jx",
        "outputId": "c6360445-2fb3-4d74-d4e6-c3d69af679df"
      },
      "outputs": [],
      "source": [
        "df.shape"
      ]
    },
    {
      "cell_type": "code",
      "execution_count": null,
      "metadata": {
        "id": "nZT21DAWuJ4k"
      },
      "outputs": [],
      "source": [
        "vocab_size = 100000 # количество слов\n",
        "oov_tok = '<OOV>' # OOV = Out of Vocabulary"
      ]
    },
    {
      "cell_type": "code",
      "execution_count": null,
      "metadata": {
        "id": "acDexKc5wHXH"
      },
      "outputs": [],
      "source": [
        "from sklearn.model_selection import KFold\n",
        "from sklearn import metrics\n",
        "\n",
        "from sklearn import model_selection"
      ]
    },
    {
      "cell_type": "code",
      "execution_count": null,
      "metadata": {
        "id": "98R9OsMruc94"
      },
      "outputs": [],
      "source": [
        "with open('tokenizer.pickle', 'rb') as handle:\n",
        "    b = pickle.load(handle)"
      ]
    },
    {
      "cell_type": "code",
      "execution_count": null,
      "metadata": {
        "id": "nGVCciuGwIXF"
      },
      "outputs": [],
      "source": [
        "df = tokenizer.texts_to_sequences(df)"
      ]
    },
    {
      "cell_type": "code",
      "execution_count": null,
      "metadata": {
        "id": "-aHoITARxH8-"
      },
      "outputs": [],
      "source": [
        "trunc_type = 'post' #метод ограничения\n",
        "padding_type = 'post' #метод дополнения\n",
        "embedding_dim = 64 # размер эмбединга\n",
        "max_length = 300 # максимальная длина последовательности\n",
        "\n",
        "# ограничиваем длину последовательностей \n",
        "\n",
        "test_padded = pad_sequences(\n",
        "    df, \n",
        "    maxlen=max_length, \n",
        "    padding=padding_type, \n",
        "    truncating=trunc_type\n",
        ")"
      ]
    },
    {
      "cell_type": "code",
      "execution_count": null,
      "metadata": {
        "colab": {
          "base_uri": "https://localhost:8080/"
        },
        "id": "_6FV79xaxQ1-",
        "outputId": "36091fbc-490f-4f95-85ef-a67e558d74ef"
      },
      "outputs": [],
      "source": [
        "test_padded.shape"
      ]
    },
    {
      "cell_type": "code",
      "execution_count": null,
      "metadata": {
        "id": "HAmnTVXJ4mTP"
      },
      "outputs": [],
      "source": [
        "from tensorflow.keras import layers\n",
        "from tensorflow.keras import models\n",
        "from tensorflow.keras import optimizers\n",
        "from tensorflow.keras import callbacks\n",
        "from tensorflow.keras import utils\n",
        "from tensorflow.keras import backend\n",
        "from tensorflow.keras import metrics"
      ]
    },
    {
      "cell_type": "code",
      "execution_count": null,
      "metadata": {
        "id": "sNygL_XUxX-q"
      },
      "outputs": [],
      "source": [
        "model = tf.keras.models.load_model('model.h5')\n",
        "predictions = model.predict([test_padded, X_scaled])"
      ]
    },
    {
      "cell_type": "code",
      "execution_count": null,
      "metadata": {
        "colab": {
          "base_uri": "https://localhost:8080/"
        },
        "id": "E0p4SY4N46_S",
        "outputId": "6f42a4d2-eca5-4723-b364-f6b29ab01128"
      },
      "outputs": [],
      "source": [
        "!pip install catboost"
      ]
    },
    {
      "cell_type": "code",
      "execution_count": null,
      "metadata": {
        "id": "SUfSqx2x42xS"
      },
      "outputs": [],
      "source": [
        "from catboost import CatBoostRegressor"
      ]
    },
    {
      "cell_type": "code",
      "execution_count": null,
      "metadata": {
        "colab": {
          "base_uri": "https://localhost:8080/"
        },
        "id": "_vmuCoQm4KCP",
        "outputId": "e550e762-804c-46e5-b5c8-37137ee3f9ee"
      },
      "outputs": [],
      "source": [
        "from_file = CatBoostRegressor()\n",
        "from_file.load_model(\"meta\")"
      ]
    },
    {
      "cell_type": "code",
      "execution_count": null,
      "metadata": {
        "id": "uGZuRoPT4PeZ"
      },
      "outputs": [],
      "source": [
        "test_predict_catboost = np.exp(from_file.predict(X_scaled))"
      ]
    },
    {
      "cell_type": "code",
      "execution_count": null,
      "metadata": {
        "id": "mG246Ksd9r5A"
      },
      "outputs": [],
      "source": [
        "def mape(y_true, y_pred):\n",
        "    return np.mean(np.abs((y_pred-y_true)/y_true))"
      ]
    },
    {
      "cell_type": "code",
      "execution_count": null,
      "metadata": {
        "colab": {
          "base_uri": "https://localhost:8080/"
        },
        "id": "sUiWuQBrKHFZ",
        "outputId": "834715dd-ddb5-4eb1-928f-79afa2a00c4e"
      },
      "outputs": [],
      "source": [
        "all_predict = (test_predict_catboost + predictions.reshape(-1))/2\n",
        "print(f\"TEST mape: {(mape(y, all_predict))*100:0.2f}%\")"
      ]
    },
    {
      "cell_type": "code",
      "execution_count": null,
      "metadata": {
        "colab": {
          "base_uri": "https://localhost:8080/"
        },
        "id": "FZQWl2PmKgBn",
        "outputId": "4616624a-9e9d-4a57-e0ab-a66c8be34a97"
      },
      "outputs": [],
      "source": [
        "print(f\"TEST mape: {(mape(y, test_predict_catboost))*100:0.2f}%\")"
      ]
    },
    {
      "cell_type": "code",
      "execution_count": null,
      "metadata": {
        "id": "CiTorlw0P6WI"
      },
      "outputs": [],
      "source": []
    }
  ],
  "metadata": {
    "colab": {
      "collapsed_sections": [],
      "name": "Untitled5.ipynb",
      "provenance": []
    },
    "kernelspec": {
      "display_name": "Python 3.10.4 64-bit",
      "language": "python",
      "name": "python3"
    },
    "language_info": {
      "codemirror_mode": {
        "name": "ipython",
        "version": 3
      },
      "file_extension": ".py",
      "mimetype": "text/x-python",
      "name": "python",
      "nbconvert_exporter": "python",
      "pygments_lexer": "ipython3",
      "version": "3.10.4"
    },
    "vscode": {
      "interpreter": {
        "hash": "916dbcbb3f70747c44a77c7bcd40155683ae19c65e1c03b4aa3499c5328201f1"
      }
    }
  },
  "nbformat": 4,
  "nbformat_minor": 0
}
